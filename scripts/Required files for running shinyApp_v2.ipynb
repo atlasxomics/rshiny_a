{
 "cells": [
  {
   "cell_type": "code",
   "execution_count": null,
   "id": "cbfe74f1",
   "metadata": {
    "vscode": {
     "languageId": "r"
    }
   },
   "outputs": [],
   "source": [
    "library(\"ArchR\")\n",
    "library(\"GenomicRanges\")\n",
    "library('BSgenome')\n",
    "library('TxDb.Rnorvegicus.UCSC.rn6.refGene')\n",
    "library('BSgenome.Rnorvegicus.UCSC.rn6')\n",
    "library(\"org.Rn.eg.db\")\n",
    "library(\"dplyr\")                                    # Load dplyr package\n",
    "library(\"plyr\")                                     # Load plyr package\n",
    "library(\"readr\")  \n",
    "library(qdap)\n",
    "library('Seurat')"
   ]
  },
  {
   "cell_type": "code",
   "execution_count": null,
   "id": "5bf96891",
   "metadata": {
    "vscode": {
     "languageId": "r"
    }
   },
   "outputs": [],
   "source": [
    "proj3 <- loadArchRProject(path = \".\", force = FALSE, showLogo = TRUE)\n",
    "proj3"
   ]
  },
  {
   "cell_type": "code",
   "execution_count": null,
   "id": "60b4aa5a",
   "metadata": {
    "vscode": {
     "languageId": "r"
    }
   },
   "outputs": [],
   "source": [
    "getCellColData(proj3)$Condition"
   ]
  },
  {
   "attachments": {},
   "cell_type": "markdown",
   "id": "26403cb1",
   "metadata": {},
   "source": [
    "# Identifying Marker Genes"
   ]
  },
  {
   "cell_type": "code",
   "execution_count": null,
   "id": "401daf52",
   "metadata": {
    "vscode": {
     "languageId": "r"
    }
   },
   "outputs": [],
   "source": [
    "############------------------------Identifying Marker Genes--------------------------###################\n",
    "\n",
    "markersGS <- getMarkerFeatures(\n",
    "  ArchRProj = proj3, \n",
    "  useMatrix = \"GeneScoreMatrix\",\n",
    "  groupBy = \"Clusters\",\n",
    "  bias = c(\"TSSEnrichment\", \"log10(nFrags)\"),\n",
    "  testMethod = \"ttest\",#\"wilcoxon\"\n",
    "\n",
    ")"
   ]
  },
  {
   "cell_type": "code",
   "execution_count": null,
   "id": "c801ed18",
   "metadata": {
    "vscode": {
     "languageId": "r"
    }
   },
   "outputs": [],
   "source": [
    "# save for shiny app\n",
    "\n",
    "saveRDS(markersGS,\"markersGS_clusters.rds\")"
   ]
  },
  {
   "cell_type": "code",
   "execution_count": null,
   "id": "a9368440",
   "metadata": {
    "vscode": {
     "languageId": "r"
    }
   },
   "outputs": [],
   "source": [
    "# save for shiny\n",
    "\n",
    "heatmapGS <- plotMarkerHeatmap(\n",
    "  seMarker = markersGS, \n",
    "  cutOff = \"FDR <= 0.05 & Log2FC >= 0.20\", plotLog2FC = TRUE,\n",
    "#   labelMarkers = seleceted_markers,\n",
    "  transpose = F,  returnMatrix = TRUE\n",
    ")\n",
    "\n",
    "write.csv(heatmapGS,\"genes_per_cluster_hm.csv\")"
   ]
  },
  {
   "cell_type": "code",
   "execution_count": null,
   "id": "02e35dd2",
   "metadata": {
    "scrolled": true,
    "vscode": {
     "languageId": "r"
    }
   },
   "outputs": [],
   "source": [
    "heatmapGS"
   ]
  },
  {
   "cell_type": "code",
   "execution_count": null,
   "id": "a305c867",
   "metadata": {
    "vscode": {
     "languageId": "r"
    }
   },
   "outputs": [],
   "source": [
    "# per sample\n",
    "\n",
    "######------------------------------Identifying Marker Genes--------------------------------#######\n",
    "\n",
    "markersGS <- getMarkerFeatures(\n",
    "  ArchRProj = proj3, \n",
    "  useMatrix = \"GeneScoreMatrix\", \n",
    "  groupBy = \"Sample\",\n",
    "  bias = c(\"TSSEnrichment\", \"log10(nFrags)\"),\n",
    "  testMethod = \"ttest\",#\"wilcoxon\"\n",
    ")\n",
    "\n",
    "# save for shiny app\n",
    "saveRDS(markersGS,\"markersGS_sample.rds\")\n",
    "\n",
    "\n",
    "proj3 <- addImputeWeights(proj3,reducedDims = \"Harmony\")                     \n",
    "                     \n",
    "options(repr.plot.width=7, repr.plot.height=7)\n",
    "\n",
    "heatmapGS <- plotMarkerHeatmap(\n",
    "  seMarker = markersGS, \n",
    "  cutOff = \"FDR <= 0.05 & Log2FC >= 0.20\", plotLog2FC = TRUE,\n",
    "#   labelMarkers = seleceted_markers,\n",
    "  transpose = F,  returnMatrix = FALSE\n",
    ")\n",
    "    \n",
    "heatmapGS\n",
    "                     \n",
    "                     \n",
    "                     \n",
    "# save for shiny\n",
    "\n",
    "heatmapGS <- plotMarkerHeatmap(\n",
    "  seMarker = markersGS, \n",
    "  cutOff = \"FDR <= 0.05 & Log2FC >= 0.20\", plotLog2FC = TRUE,\n",
    "#   labelMarkers = seleceted_markers,\n",
    "  transpose = F,  returnMatrix = TRUE\n",
    ")\n",
    "write.csv(heatmapGS,\"genes_per_sample_hm.csv\")                     "
   ]
  },
  {
   "cell_type": "code",
   "execution_count": null,
   "id": "1c9d52ce",
   "metadata": {
    "scrolled": true,
    "vscode": {
     "languageId": "r"
    }
   },
   "outputs": [],
   "source": [
    "# per treatment\n",
    "\n",
    "######------------------------------Identifying Marker Genes--------------------------------#######\n",
    "\n",
    "markersGS <- getMarkerFeatures(\n",
    "  ArchRProj = proj3, \n",
    "  useMatrix = \"GeneScoreMatrix\", \n",
    "  groupBy = \"Condition\",\n",
    "  bias = c(\"TSSEnrichment\", \"log10(nFrags)\"),\n",
    "  testMethod = \"ttest\",#\"wilcoxon\"\n",
    ")\n",
    "# save for shiny app\n",
    "saveRDS(markersGS,\"markersGS_treatment.rds\")\n",
    "\n",
    "\n",
    "proj3 <- addImputeWeights(proj3,reducedDims = \"Harmony\")                     \n",
    "                     \n",
    "options(repr.plot.width=7, repr.plot.height=7)\n",
    "\n",
    "heatmapGS <- plotMarkerHeatmap(\n",
    "  seMarker = markersGS, \n",
    "  cutOff = \"FDR <= 0.05 & Log2FC >= 0.20\", plotLog2FC = TRUE,\n",
    "#   labelMarkers = seleceted_markers,\n",
    "  transpose = F,  returnMatrix = FALSE\n",
    ")\n",
    "    \n",
    "heatmapGS\n",
    "                     \n",
    "                     \n",
    "                     \n",
    "# save for shiny\n",
    "\n",
    "heatmapGS <- plotMarkerHeatmap(\n",
    "  seMarker = markersGS, \n",
    "  cutOff = \"FDR <= 0.05 & Log2FC >= 0.20\", plotLog2FC = TRUE,\n",
    "#   labelMarkers = seleceted_markers,\n",
    "  transpose = F,  returnMatrix = TRUE\n",
    ")\n",
    "write.csv(heatmapGS,\"genes_per_treatment_hm.csv\")                     "
   ]
  },
  {
   "attachments": {},
   "cell_type": "markdown",
   "id": "af8dd4c7",
   "metadata": {},
   "source": [
    "# Volcano plots for genes"
   ]
  },
  {
   "cell_type": "code",
   "execution_count": null,
   "id": "eed8f3e7",
   "metadata": {
    "vscode": {
     "languageId": "r"
    }
   },
   "outputs": [],
   "source": [
    "# for all clusters together"
   ]
  },
  {
   "cell_type": "code",
   "execution_count": null,
   "id": "7cf0c542",
   "metadata": {
    "scrolled": true,
    "vscode": {
     "languageId": "r"
    }
   },
   "outputs": [],
   "source": [
    "  ncells <- length(proj3$cellNames)\n",
    "\n",
    "  markerList <- getMarkerFeatures(\n",
    "    ArchRProj = proj3,\n",
    "    useMatrix = \"GeneScoreMatrix\", \n",
    "    groupBy = \"Condition\",\n",
    "    bias = c(\"TSSEnrichment\", \"log10(nFrags)\"),\n",
    "    maxCells = ncells,\n",
    "    normBy = \"none\",\n",
    "    testMethod = \"ttest\"\n",
    ")"
   ]
  },
  {
   "cell_type": "code",
   "execution_count": null,
   "id": "8d7e3f0c",
   "metadata": {
    "vscode": {
     "languageId": "r"
    }
   },
   "outputs": [],
   "source": [
    "\n",
    "\n",
    "p4<-plotEmbedding(ArchRProj = proj3, colorBy = \"cellColData\", name = \"Clusters\", embedding = \"UMAP\"\n",
    "                  ,size=1.0, baseSize = 10)+\n",
    "            theme(legend.position = \"top\",legend.direction= \"horizontal\"\n",
    "                , legend.text=element_text(size=20), legend.title=element_text(size=0))+\n",
    "   theme(\n",
    "  plot.title = element_blank(),\n",
    "  axis.title.x = element_blank(),\n",
    "  axis.title.y = element_blank())\n",
    "# p4\n",
    "p5<-plotEmbedding(ArchRProj = proj3, colorBy = \"cellColData\", name = \"Sample\", embedding = \"HA\"\n",
    "                  ,size=1.0, baseSize = 10)+\n",
    "            theme(legend.position = \"top\",legend.direction= \"vertical\"\n",
    "                , legend.text=element_text(size=20), legend.title=element_text(size=0))+\n",
    "   theme(\n",
    "  plot.title = element_blank(),\n",
    "  axis.title.x = element_blank(),\n",
    "  axis.title.y = element_blank())\n",
    "# p5\n",
    "\n",
    "p6<-plotEmbedding(ArchRProj = proj3, colorBy = \"cellColData\", name = \"Condition\", embedding = \"UMAP\"\n",
    "                  ,size=1.0, baseSize = 10)+\n",
    "            theme(legend.position = \"top\",legend.direction= \"vertical\"\n",
    "                , legend.text=element_text(size=20), legend.title=element_text(size=0))+\n",
    "   theme(\n",
    "  plot.title = element_blank(),\n",
    "  axis.title.x = element_blank(),\n",
    "  axis.title.y = element_blank())\n",
    "# p6\n",
    "\n",
    "\n",
    "options(repr.plot.width=15, repr.plot.height=9)\n",
    "\n",
    "p4 + p5 + p6 "
   ]
  },
  {
   "cell_type": "code",
   "execution_count": null,
   "id": "501fb3ad",
   "metadata": {
    "vscode": {
     "languageId": "r"
    }
   },
   "outputs": [],
   "source": [
    "pal <- paletteDiscrete(values = getCellColData(proj3)$Condition)\n",
    "\n",
    "\n",
    "options(repr.plot.width=12, repr.plot.height=7)\n",
    "\n",
    "req_DF <- as.data.frame(getCellColData(proj3))\n",
    "\n",
    "req_table <- melt(table(req_DF$Clusters,req_DF$Condition))\n",
    "colnames(req_table) <- c(\"Cluster\",\"Treatment\",\"%cells in knn clusters\")\n",
    "req_table$Cluster <- factor(req_table$Cluster\n",
    "                        , levels = (unique(req_table[order(as.numeric(gsub(\"C\",\"\",req_table$Cluster))),]$Cluster)))\n",
    "\n",
    "ggplot(req_table, aes(fill=Treatment, y=`%cells in knn clusters`, x= Cluster))+ geom_bar(stat=\"identity\"\n",
    "                                                                                      , position = \"fill\")+\n",
    "theme_classic() + theme(text = element_text(size = 25)) +theme(axis.title.x=element_blank(),)+\n",
    "  scale_fill_manual(values= (pal))"
   ]
  },
  {
   "attachments": {},
   "cell_type": "markdown",
   "id": "ceb358ab",
   "metadata": {},
   "source": [
    "# Running Harmony Again!"
   ]
  },
  {
   "cell_type": "code",
   "execution_count": null,
   "id": "6165d03b",
   "metadata": {
    "vscode": {
     "languageId": "r"
    }
   },
   "outputs": [],
   "source": [
    "proj4 <- proj3"
   ]
  },
  {
   "cell_type": "code",
   "execution_count": null,
   "id": "3ce47c66",
   "metadata": {
    "vscode": {
     "languageId": "r"
    }
   },
   "outputs": [],
   "source": [
    "########-----------------------------Batch Effect Correction wtih Harmony----------------########\n",
    "proj4 <- addHarmony(\n",
    "    ArchRProj = proj4,\n",
    "    reducedDims = \"IterativeLSI\",\n",
    "    name = \"Harmony\",\n",
    "    groupBy = \"Sample\",\n",
    "    force = TRUE\n",
    "                      )"
   ]
  },
  {
   "cell_type": "code",
   "execution_count": null,
   "id": "82de52ea",
   "metadata": {
    "vscode": {
     "languageId": "r"
    }
   },
   "outputs": [],
   "source": [
    "proj4 <- addClusters(\n",
    "    input = proj4,\n",
    "    reducedDims = \"Harmony\",\n",
    "    method = \"Seurat\",\n",
    "    name = \"Clusters2\",\n",
    "#     resolution = 0.5,\n",
    "    resolution = 1.5,\n",
    "    force = TRUE\n",
    "                    )"
   ]
  },
  {
   "cell_type": "code",
   "execution_count": null,
   "id": "ed025ac0",
   "metadata": {
    "vscode": {
     "languageId": "r"
    }
   },
   "outputs": [],
   "source": [
    "proj4 <- addUMAP(\n",
    "    ArchRProj = proj4, \n",
    "    reducedDims = \"Harmony\", \n",
    "    name = \"UMAPHarmony\", \n",
    "    nNeighbors = 20, \n",
    "    minDist = 0.5, \n",
    "    metric = \"cosine\",verbose = FALSE,\n",
    "    ,force = TRUE\n",
    "                 )"
   ]
  },
  {
   "cell_type": "code",
   "execution_count": null,
   "id": "f619b12c",
   "metadata": {
    "scrolled": false,
    "vscode": {
     "languageId": "r"
    }
   },
   "outputs": [],
   "source": [
    "pal <- paletteDiscrete(values = getCellColData(proj4)$Condition)\n",
    "\n",
    "\n",
    "options(repr.plot.width=12, repr.plot.height=7)\n",
    "\n",
    "req_DF <- as.data.frame(getCellColData(proj4))\n",
    "\n",
    "req_table <- melt(table(req_DF$Clusters2,req_DF$Condition))\n",
    "colnames(req_table) <- c(\"Cluster\",\"Treatment\",\"%cells in knn clusters\")\n",
    "req_table$Cluster <- factor(req_table$Cluster\n",
    "                        , levels = (unique(req_table[order(as.numeric(gsub(\"C\",\"\",req_table$Cluster))),]$Cluster)))\n",
    "\n",
    "ggplot(req_table, aes(fill=Treatment, y=`%cells in knn clusters`, x= Cluster))+ geom_bar(stat=\"identity\"\n",
    "                                                                                      , position = \"fill\")+\n",
    "theme_classic() + theme(text = element_text(size = 25)) +theme(axis.title.x=element_blank(),)+\n",
    "  scale_fill_manual(values= (pal))"
   ]
  },
  {
   "attachments": {},
   "cell_type": "markdown",
   "id": "23605a85",
   "metadata": {},
   "source": [
    "### A few scripts for finding automatically dominated clusters by one of the conditions"
   ]
  },
  {
   "cell_type": "code",
   "execution_count": null,
   "id": "b5fd815b",
   "metadata": {
    "vscode": {
     "languageId": "r"
    }
   },
   "outputs": [],
   "source": [
    "df1 <- table(req_DF$Clusters2,req_DF$Condition)\n",
    "\n",
    "distr <- as.data.frame.matrix(round(prop.table(as.matrix(df1),1),2))\n",
    "\n",
    "distr"
   ]
  },
  {
   "cell_type": "code",
   "execution_count": null,
   "id": "9fd9e863",
   "metadata": {
    "vscode": {
     "languageId": "r"
    }
   },
   "outputs": [],
   "source": [
    "lst <- list()\n",
    "\n",
    "for(i in 1:nrow(distr)) {\n",
    "    row <- distr[i,]\n",
    "    if (\n",
    "    sum(unname(unlist(row))>= 0.85) == 1) {\n",
    "        rownames(row) -> lst[[i]]\n",
    "    }\n",
    "}\n",
    "not_req_list <- unlist(lst)\n",
    "not_req_list"
   ]
  },
  {
   "cell_type": "code",
   "execution_count": null,
   "id": "cbe07d8d",
   "metadata": {
    "vscode": {
     "languageId": "r"
    }
   },
   "outputs": [],
   "source": [
    "# the above bar plot shows that all of the clusters (EXCEPT 9) have a minimum of each treatment so we don't get \n",
    "# error \"2 function calls resulted in an error\" and we run volcanon for all of the clusters\n",
    "\n",
    "req_clusters <- unique(proj4$Clusters2)\n",
    "req_clusters <- req_clusters[order(as.numeric(gsub(\"C\",\"\",req_clusters)))]\n",
    "\n",
    "\n",
    "# remove cluster 9\n",
    "req_clusters <- req_clusters[which(!req_clusters%in%not_req_list)]\n",
    "\n",
    "req_clusters"
   ]
  },
  {
   "cell_type": "code",
   "execution_count": null,
   "id": "b4f4dd60",
   "metadata": {
    "vscode": {
     "languageId": "r"
    }
   },
   "outputs": [],
   "source": [
    "req_clusters[1]"
   ]
  },
  {
   "cell_type": "code",
   "execution_count": null,
   "id": "abeb4e08",
   "metadata": {
    "collapsed": true,
    "vscode": {
     "languageId": "r"
    }
   },
   "outputs": [],
   "source": [
    "\n",
    "######------------------Identifying Marker Genes grouped by treatment per each cluster -----------------------#######\n",
    "\n",
    "markerList_C <- list()\n",
    "proj4_C <- list()\n",
    "\n",
    "for (i in seq_along(req_clusters)) {\n",
    "    \n",
    "   idxSample <- BiocGenerics::which(proj4$Clusters2 == req_clusters[i])\n",
    "   \n",
    "   cellsSample <- proj4$cellNames[idxSample]\n",
    "   proj4_C[i] <- proj4[cellsSample,]\n",
    "    \n",
    "    ncells[i] <- length(proj4_C[[i]]$cellNames)\n",
    "\n",
    "# per each cluster separately\n",
    "  markerList_C[[i]] <- getMarkerFeatures(\n",
    "  ArchRProj = proj4_C[[i]],\n",
    "  useMatrix = \"GeneScoreMatrix\", \n",
    "  groupBy = \"Condition\",\n",
    "  bias = c(\"TSSEnrichment\", \"log10(nFrags)\"),maxCells = ncells[[i]] ,normBy = \"none\",\n",
    "  testMethod = \"ttest\")\n",
    "    \n",
    "\n",
    "    }\n",
    "\n",
    "names(markerList_C) <- req_clusters"
   ]
  },
  {
   "cell_type": "code",
   "execution_count": null,
   "id": "0abdf36e",
   "metadata": {
    "vscode": {
     "languageId": "r"
    }
   },
   "outputs": [],
   "source": [
    "# lets find empty genes\n",
    "\n",
    "gsm <- getMatrixFromProject(proj4)\n",
    "gsm_mat <- assay(getMatrixFromProject(proj4),\"GeneScoreMatrix\")\n",
    "\n",
    "which(rowSums(is.na(gsm_mat))>0)\n",
    "any(rowSums((gsm_mat))==0)\n",
    "\n",
    "empty_gene_idx <- which(rowSums((gsm_mat))==0)\n",
    "empty_gene <- rowData(gsm)$name[empty_gene_idx]\n",
    "empty_gene"
   ]
  },
  {
   "cell_type": "code",
   "execution_count": null,
   "id": "cba21f8c",
   "metadata": {
    "vscode": {
     "languageId": "r"
    }
   },
   "outputs": [],
   "source": [
    "colnames(markerList)"
   ]
  },
  {
   "cell_type": "code",
   "execution_count": null,
   "id": "bc28e632",
   "metadata": {
    "vscode": {
     "languageId": "r"
    }
   },
   "outputs": [],
   "source": [
    "# volcano data for All clusters together"
   ]
  },
  {
   "cell_type": "code",
   "execution_count": null,
   "id": "5128a23f",
   "metadata": {
    "vscode": {
     "languageId": "r"
    }
   },
   "outputs": [],
   "source": [
    "markerList\n",
    "assays(markerList)"
   ]
  },
  {
   "cell_type": "code",
   "execution_count": null,
   "id": "92a87a1b",
   "metadata": {
    "vscode": {
     "languageId": "r"
    }
   },
   "outputs": [],
   "source": [
    "grep('Ptprg',rowData(markerList)$name)"
   ]
  },
  {
   "cell_type": "code",
   "execution_count": null,
   "id": "1a3f327c",
   "metadata": {
    "scrolled": true,
    "vscode": {
     "languageId": "r"
    }
   },
   "outputs": [],
   "source": [
    "assay(markerList, \"Log2FC\")[6155,]"
   ]
  },
  {
   "cell_type": "code",
   "execution_count": null,
   "id": "8c9c499c",
   "metadata": {
    "scrolled": true,
    "vscode": {
     "languageId": "r"
    }
   },
   "outputs": [],
   "source": [
    "markerList_df1 <- assay(markerList, \"Log2FC\")\n",
    "markerList_df2 <- assay(markerList, \"Pval\")\n",
    "markerList_df3 <- assay(markerList, \"FDR\")\n",
    "markerList_df <- cbind(markerList_df1,markerList_df2,markerList_df3)\n",
    "markerList_df$genes<- rowData(markerList)$name\n",
    "markerList_df$cluster <- rep(\"All\",length(rownames(markerList_df)))\n",
    "\n",
    "# # we only want to see results of one set , say just sham\n",
    "markerList_df <- markerList_df[,c(1,3,5,7,8)]\n",
    "colnames(markerList_df) <- c(\"avg_log2FC\",\"p_val\",\"p_val_adj\",\"gene\",\"cluster\")\n",
    "\n",
    "# # it happens alot that fdr values are similar. for those cases we only keep fdrs with highest logfc\n",
    "# markerList_df$logfdr <- -log10(markerList_df$p_val_adj)\n",
    "# markerList_df <- setDT(markerList_df)[order(-abs(avg_log2FC)), .SD[1L] ,.(logfdr)]\n",
    "\n",
    "\n",
    "markerList_df"
   ]
  },
  {
   "cell_type": "code",
   "execution_count": null,
   "id": "789a5354",
   "metadata": {
    "vscode": {
     "languageId": "r"
    }
   },
   "outputs": [],
   "source": [
    "table(markerList_df$cluster)"
   ]
  },
  {
   "cell_type": "code",
   "execution_count": null,
   "id": "259196cc",
   "metadata": {
    "vscode": {
     "languageId": "r"
    }
   },
   "outputs": [],
   "source": [
    "# volcano data per cluster separately"
   ]
  },
  {
   "cell_type": "code",
   "execution_count": null,
   "id": "0efc95cf",
   "metadata": {
    "vscode": {
     "languageId": "r"
    }
   },
   "outputs": [],
   "source": [
    "req_clusters"
   ]
  },
  {
   "attachments": {},
   "cell_type": "markdown",
   "id": "6e80b931",
   "metadata": {},
   "source": [
    "### Here I changed naming of the clusters"
   ]
  },
  {
   "cell_type": "code",
   "execution_count": null,
   "id": "d538855d",
   "metadata": {
    "vscode": {
     "languageId": "r"
    }
   },
   "outputs": [],
   "source": [
    "\n",
    "markerList_df1_C <- list()\n",
    "markerList_df2_C <- list()\n",
    "markerList_df3_C <- list()\n",
    "markerList_df_C <- list()\n",
    "\n",
    "# for (i in (1:nClust)){\n",
    "for (i in seq_along(req_clusters)){\n",
    "    \n",
    "cluster <- req_clusters[i]\n",
    "    \n",
    "markerList_df1_C[[i]] <- assay(markerList_C[[i]], \"Log2FC\")\n",
    "markerList_df2_C[[i]] <- assay(markerList_C[[i]], \"Pval\")\n",
    "markerList_df3_C[[i]] <- assay(markerList_C[[i]], \"FDR\")\n",
    "    \n",
    "markerList_df_C[[i]] <- cbind(markerList_df1_C[[i]]\n",
    "                              ,markerList_df2_C[[i]]\n",
    "                              ,markerList_df3_C[[i]])\n",
    "    \n",
    "markerList_df_C[[i]]$genes<- rowData(markerList_C[[i]])$name\n",
    "markerList_df_C[[i]]$cluster <- rep(cluster,length(rownames(markerList_df_C[[i]])))\n",
    "\n",
    "# # we only want to see results of one set , say just sham\n",
    "markerList_df_C[[i]] <- markerList_df_C[[i]][,c(1,3,5,7,8)]\n",
    "colnames(markerList_df_C[[i]]) <- c(\"avg_log2FC\",\"p_val\",\"p_val_adj\",\"gene\",\"cluster\")\n",
    "\n",
    "    \n",
    "# # it happens alot that fdr values are similar\n",
    "# # we only keep fdrs with highest logfc\n",
    "# markerList_df_C[[i]]$logfdr <- -log10(markerList_df_C[[i]]$p_val_adj)\n",
    "# markerList_df_C[[i]] <- setDT(markerList_df_C[[i]])[order(-abs(avg_log2FC)), .SD[1L] ,.(logfdr)]\n",
    "\n",
    "    }\n",
    "\n",
    "\n",
    "names(markerList_df_C) <- req_clusters"
   ]
  },
  {
   "cell_type": "code",
   "execution_count": null,
   "id": "e9fe3b03",
   "metadata": {
    "vscode": {
     "languageId": "r"
    }
   },
   "outputs": [],
   "source": [
    "for (i in seq_along(req_clusters)){\n",
    "    \n",
    "print(req_clusters[i])\n",
    "    }"
   ]
  },
  {
   "cell_type": "code",
   "execution_count": null,
   "id": "add5d9cc",
   "metadata": {
    "vscode": {
     "languageId": "r"
    }
   },
   "outputs": [],
   "source": [
    "#### merge all data frames\n",
    "\n",
    "markersGS_merged_df <- do.call(\"rbind\", markerList_df_C)\n",
    "\n",
    "# also data frame for all clusters together needs to be added\n",
    "\n",
    "markersGS_merged_df <- rbind(markerList_df,markersGS_merged_df)"
   ]
  },
  {
   "cell_type": "code",
   "execution_count": null,
   "id": "17bf1e07",
   "metadata": {
    "scrolled": true,
    "vscode": {
     "languageId": "r"
    }
   },
   "outputs": [],
   "source": [
    "# remove empty genes\n",
    "markersGS_merged_df <- markersGS_merged_df[which(!markersGS_merged_df$gene%in%empty_gene),]\n",
    "\n",
    "# remove na values\n",
    "markersGS_merged_df <- na.omit(markersGS_merged_df)\n",
    "\n",
    "# remove FDR equal to 0\n",
    "markersGS_merged_df <- markersGS_merged_df[which(!markersGS_merged_df$p_val_adj== 0),]\n",
    "\n",
    "\n",
    "\n",
    "# make logfc limiation between 1 and -1\n",
    "\n",
    "markersGS_merged_df <- markersGS_merged_df[which(abs(markersGS_merged_df$avg_log2FC)< 1.2),]\n",
    "\n",
    "markersGS_merged_df$Significance = ifelse(markersGS_merged_df$p_val_adj < 10^-1 , \n",
    "#                                           abs(markersGS_merged_df$avg_log2FC) >= 0.58, \n",
    "                     ifelse(markersGS_merged_df$avg_log2FC> 0.0 \n",
    "                            ,colnames(markerList)[1],colnames(markerList)[2]),\n",
    "                     'Not siginficant')\n",
    "markersGS_merged_df "
   ]
  },
  {
   "cell_type": "code",
   "execution_count": null,
   "id": "0bd37808",
   "metadata": {
    "vscode": {
     "languageId": "r"
    }
   },
   "outputs": [],
   "source": [
    "table(markersGS_merged_df$cluster)"
   ]
  },
  {
   "cell_type": "code",
   "execution_count": null,
   "id": "6db986f4",
   "metadata": {
    "vscode": {
     "languageId": "r"
    }
   },
   "outputs": [],
   "source": [
    "de <- markersGS_merged_df\n",
    "table(de$Significance)"
   ]
  },
  {
   "cell_type": "code",
   "execution_count": null,
   "id": "a5fb0ebc",
   "metadata": {
    "vscode": {
     "languageId": "r"
    }
   },
   "outputs": [],
   "source": [
    "write.table(de,\"inpMarkers.txt\", sep = '\\t', quote = F, row.names = F)"
   ]
  },
  {
   "cell_type": "code",
   "execution_count": null,
   "id": "abfd3a68",
   "metadata": {
    "vscode": {
     "languageId": "r"
    }
   },
   "outputs": [],
   "source": [
    "inpMarkers = fread(\"./inpMarkers.txt\") \n",
    "# inpMarkers"
   ]
  },
  {
   "cell_type": "code",
   "execution_count": null,
   "id": "3a4e4e20",
   "metadata": {
    "vscode": {
     "languageId": "r"
    }
   },
   "outputs": [],
   "source": [
    "# let's test\n",
    "library(ggplot2)\n",
    "library(grid)\n",
    "library(ggrepel)\n",
    "library(ggpubr)"
   ]
  },
  {
   "cell_type": "code",
   "execution_count": null,
   "id": "6797445c",
   "metadata": {
    "vscode": {
     "languageId": "r"
    }
   },
   "outputs": [],
   "source": [
    "targeted <- 'All'\n",
    "\n",
    "#   minfdr = 10^-(1/3 *(-log10(min(inpMarkers[cluster == targeted]$p_val_adj))))\n",
    "    minfdr = 0.05\n",
    "  minfdr2 = 10^-(2/3 *(-log10(min(inpMarkers[cluster == targeted]$p_val_adj))))\n",
    "\n",
    "ggData = inpMarkers[cluster == targeted]\n",
    "ggData$Significance = ifelse(ggData$p_val_adj < minfdr ,\n",
    "#                              & abs(ggData$avg_log2FC) >= 0.58,\n",
    "                                 ifelse(ggData$avg_log2FC > 0.0\n",
    "                                        ,\"Lupus\",\"WT\")\n",
    "                                 ,'Not siginficant'\n",
    "    )\n",
    "\n",
    "\n",
    "ggData$Significance <- factor(\n",
    "                               ggData$Significance,\n",
    "                               levels = c('Lupus','WT','Not siginficant')\n",
    "                             )\n",
    "\n",
    "\n",
    "    ggData[p_val_adj < 1e-300]$p_val_adj = 1e-300\n",
    "    ggData$log10fdr = -log10(ggData$p_val_adj)\n",
    "    ggplot(ggData, aes(avg_log2FC, log10fdr)) + \n",
    "    geom_point() + \n",
    "# sctheme() + \n",
    "    ylab(\"-log10(FDR)\") +\n",
    "\n",
    "    geom_point(aes(color = Significance)) +\n",
    "\n",
    "    scale_color_manual(values = c(\"red\",\"blue\",\"grey\")) +\n",
    "\n",
    "    geom_text_repel(\n",
    "    data = subset(ggData, p_val_adj < 10^-5 ),\n",
    "    aes(label = gene))"
   ]
  },
  {
   "attachments": {},
   "cell_type": "markdown",
   "id": "4bf37e33",
   "metadata": {},
   "source": [
    "# for Shiny app"
   ]
  },
  {
   "cell_type": "code",
   "execution_count": null,
   "id": "0a6a2948",
   "metadata": {
    "vscode": {
     "languageId": "r"
    }
   },
   "outputs": [],
   "source": [
    "# Extract umap from project"
   ]
  },
  {
   "cell_type": "code",
   "execution_count": null,
   "id": "d07d095b",
   "metadata": {
    "vscode": {
     "languageId": "r"
    }
   },
   "outputs": [],
   "source": [
    "names(proj3@reducedDims$Harmony@listData)"
   ]
  },
  {
   "cell_type": "code",
   "execution_count": null,
   "id": "b58eb08d",
   "metadata": {
    "vscode": {
     "languageId": "r"
    }
   },
   "outputs": [],
   "source": [
    "plotEmbedding(ArchRProj = proj3, colorBy = \"cellColData\", name = \"Clusters_edited\", embedding = \"UMAPHarmony\"\n",
    "                  ,size=1.0, baseSize = 10)+\n",
    "            theme(legend.position = \"right\",legend.direction= \"vertical\"\n",
    "                , legend.text=element_text(size=20), legend.title=element_text(size=0))+\n",
    "   theme(\n",
    "  plot.title = element_blank(),\n",
    "  axis.title.x = element_blank(),\n",
    "  axis.title.y = element_blank())\n",
    "# p4"
   ]
  },
  {
   "cell_type": "code",
   "execution_count": null,
   "id": "600d7200",
   "metadata": {
    "vscode": {
     "languageId": "r"
    }
   },
   "outputs": [],
   "source": [
    "UMAPHarmony <-getEmbedding(ArchRProj = proj3, embedding = \"UMAPHarmony\", returnDF = TRUE)\n",
    "UMAPHarmony"
   ]
  },
  {
   "cell_type": "code",
   "execution_count": null,
   "id": "5fa78ac4",
   "metadata": {
    "vscode": {
     "languageId": "r"
    }
   },
   "outputs": [],
   "source": [
    "write.csv(UMAPHarmony,\"UMAPHarmony.csv\")"
   ]
  },
  {
   "cell_type": "code",
   "execution_count": null,
   "id": "d94248c0",
   "metadata": {
    "vscode": {
     "languageId": "r"
    }
   },
   "outputs": [],
   "source": [
    "# Motif Logo\n",
    "\n",
    "library(\"seqLogo\")\n",
    "require(ggseqlogo)\n",
    "library(ArchR)\n",
    "library(chromVARmotifs)\n",
    "\n",
    "# data(\"human_pwms_v1\")\n",
    "\n",
    "PWMs <- getPeakAnnotation(proj3, \"Motif\")$motifs\n",
    "\n",
    "PWMatrixToProbMatrix <- function(x){\n",
    "\tif (class(x) != \"PWMatrix\") stop(\"x must be a TFBSTools::PWMatrix object\")\n",
    "\t(exp(as(x, \"matrix\"))) * TFBSTools::bg(x)/sum(TFBSTools::bg(x))\n",
    "}\n",
    " \n",
    "ProbMatrices <- lapply(PWMs, PWMatrixToProbMatrix)\n",
    "lapply(ProbMatrices, colSums) %>% range\n",
    "#[1] 0.9999996 1.0000004\n",
    "\n",
    "#Maybe we can just tidy this up a tiny bit\n",
    "\n",
    "PWMatrixToProbMatrix <- function(x){\n",
    "\tif (class(x) != \"PWMatrix\") stop(\"x must be a TFBSTools::PWMatrix object\")\n",
    "\tm <- (exp(as(x, \"matrix\"))) * TFBSTools::bg(x)/sum(TFBSTools::bg(x))\n",
    "\tm <- t(t(m)/colSums(m))\n",
    "\tm\n",
    "}\n",
    "\n",
    "ProbMatrices <- lapply(PWMs, PWMatrixToProbMatrix)\n",
    "lapply(ProbMatrices, colSums) %>% range\n",
    "#[1] 1 1"
   ]
  },
  {
   "cell_type": "code",
   "execution_count": null,
   "id": "a5b0365b",
   "metadata": {
    "vscode": {
     "languageId": "r"
    }
   },
   "outputs": [],
   "source": [
    "grep(\"AP1_714\", names(ProbMatrices))"
   ]
  },
  {
   "cell_type": "code",
   "execution_count": null,
   "id": "71af3264",
   "metadata": {
    "vscode": {
     "languageId": "r"
    }
   },
   "outputs": [],
   "source": [
    "\n",
    "ggseqlogo(ProbMatrices[c(grep(paste0(\"^\",\"AP1_714\",\"$\"), names(ProbMatrices)))])\n"
   ]
  },
  {
   "cell_type": "code",
   "execution_count": null,
   "id": "98d9d312",
   "metadata": {
    "vscode": {
     "languageId": "r"
    }
   },
   "outputs": [],
   "source": [
    "saveRDS(ProbMatrices,\"seqlogo.rds\")"
   ]
  },
  {
   "attachments": {},
   "cell_type": "markdown",
   "id": "ed70f1cf",
   "metadata": {},
   "source": [
    "# Default genes for heatmaps"
   ]
  },
  {
   "cell_type": "code",
   "execution_count": null,
   "id": "f6c06a00",
   "metadata": {
    "vscode": {
     "languageId": "r"
    }
   },
   "outputs": [],
   "source": [
    "suppressPackageStartupMessages(library(\"ComplexHeatmap\"))\n",
    "suppressPackageStartupMessages(library(\"circlize\"))\n",
    "suppressPackageStartupMessages(library(data.table))"
   ]
  },
  {
   "cell_type": "code",
   "execution_count": null,
   "id": "1e97235d",
   "metadata": {
    "vscode": {
     "languageId": "r"
    }
   },
   "outputs": [],
   "source": [
    "hm_per_clust <- read.csv(\"genes_per_cluster_hm.csv\")\n",
    "# hm_per_clust\n",
    "hm_per_sample <- read.csv(\"genes_per_sample_hm.csv\")\n",
    "# hm_per_sample\n",
    "hm_per_cond <- read.csv(\"genes_per_treatment_hm.csv\")"
   ]
  },
  {
   "cell_type": "code",
   "execution_count": null,
   "id": "c3bdd13d",
   "metadata": {
    "vscode": {
     "languageId": "r"
    }
   },
   "outputs": [],
   "source": [
    "nClust = 9\n",
    "\n",
    "\n",
    "df = list()\n",
    "\n",
    "\n",
    "for (i in seq_along(1:nClust)){\n",
    "df[[i]] <- hm_per_clust[,c(1,i+1)]\n",
    "\n",
    "#select top 5 values by group\n",
    "\n",
    "df[[i]] <- df[[i]][order(df[[i]][,2], decreasing = T),][1:5,1]\n",
    "\n",
    "}\n",
    "final <- do.call(rbind, df)\n",
    "final"
   ]
  },
  {
   "cell_type": "code",
   "execution_count": null,
   "id": "2b4667fd",
   "metadata": {
    "vscode": {
     "languageId": "r"
    }
   },
   "outputs": [],
   "source": [
    "req_genes1 <- unlist(df)\n",
    "\n",
    "req_genes1<- req_genes1[!duplicated(req_genes1)]\n",
    "\n",
    "# save the genes for default values in shiny app\n",
    "\n",
    "write.csv(req_genes1,\"req_genes1.csv\")"
   ]
  },
  {
   "cell_type": "code",
   "execution_count": null,
   "id": "b4690750",
   "metadata": {
    "vscode": {
     "languageId": "r"
    }
   },
   "outputs": [],
   "source": [
    "# per treatment\n",
    "\n",
    "nConds = 2\n",
    "\n",
    "\n",
    "df = list()\n",
    "\n",
    "for (i in seq_along(1:nConds)){\n",
    "df[[i]] <- hm_per_cond[,c(1,i+1)]\n",
    "\n",
    "#select top 20 values by group\n",
    "\n",
    "df[[i]] <- df[[i]][order(df[[i]][,2], decreasing = T),][1:20,1]\n",
    "\n",
    "}\n",
    "final <- do.call(rbind, df)\n",
    "# final\n",
    "req_genes2 <- unlist(df)\n",
    "\n",
    "req_genes2<- req_genes2[!duplicated(req_genes2)]\n",
    "\n",
    "write.csv(req_genes2,\"req_genes2.csv\")"
   ]
  },
  {
   "cell_type": "code",
   "execution_count": null,
   "id": "009a6327",
   "metadata": {
    "vscode": {
     "languageId": "r"
    }
   },
   "outputs": [],
   "source": [
    "# per sample\n",
    "\n",
    "nSamples = 4\n",
    "\n",
    "\n",
    "df = list()\n",
    "\n",
    "for (i in seq_along(1:nSamples)){\n",
    "df[[i]] <- hm_per_sample[,c(1,i+1)]\n",
    "\n",
    "#select top 10 values by group\n",
    "\n",
    "df[[i]] <- df[[i]][order(df[[i]][,2], decreasing = T),][1:10,1]\n",
    "\n",
    "}\n",
    "final <- do.call(rbind, df)\n",
    "# final\n",
    "req_genes3 <- unlist(df)\n",
    "\n",
    "req_genes3<- req_genes3[!duplicated(req_genes3)]\n",
    "\n",
    "write.csv(req_genes3,\"req_genes3.csv\")"
   ]
  }
 ],
 "metadata": {
  "kernelspec": {
   "display_name": "R",
   "language": "R",
   "name": "ir"
  },
  "language_info": {
   "codemirror_mode": "r",
   "file_extension": ".r",
   "mimetype": "text/x-r-source",
   "name": "R",
   "pygments_lexer": "r",
   "version": "4.1.3"
  }
 },
 "nbformat": 4,
 "nbformat_minor": 5
}
